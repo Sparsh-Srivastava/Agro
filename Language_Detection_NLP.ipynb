{
  "nbformat": 4,
  "nbformat_minor": 0,
  "metadata": {
    "colab": {
      "name": "Language_Detection_NLP.ipynb",
      "provenance": [],
      "authorship_tag": "ABX9TyM/ay1fxNVIYSfdHbmW3NDf"
    },
    "kernelspec": {
      "name": "python3",
      "display_name": "Python 3"
    },
    "language_info": {
      "name": "python"
    }
  },
  "cells": [
    {
      "cell_type": "code",
      "metadata": {
        "id": "yVTW5yNQSUCm"
      },
      "source": [
        "import numpy as np\n",
        "import matplotlib.pyplot as plt\n",
        "import pandas as pd\n",
        "import re\n",
        "import string\n",
        "import seaborn as sns"
      ],
      "execution_count": 1,
      "outputs": []
    },
    {
      "cell_type": "code",
      "metadata": {
        "id": "XQ5FDAeJaJSg"
      },
      "source": [
        "from sklearn.metrics import accuracy_score, confusion_matrix, classification_report\n",
        "from sklearn.feature_extraction.text import TfidfVectorizer\n",
        "from sklearn import pipeline\n",
        "from sklearn.linear_model import LogisticRegression\n",
        "from sklearn.model_selection import train_test_split"
      ],
      "execution_count": 2,
      "outputs": []
    },
    {
      "cell_type": "code",
      "metadata": {
        "id": "lhHDHocbTDzF"
      },
      "source": [
        "dataset = pd.read_csv(\"ld.csv\")"
      ],
      "execution_count": 3,
      "outputs": []
    },
    {
      "cell_type": "code",
      "metadata": {
        "colab": {
          "base_uri": "https://localhost:8080/",
          "height": 418
        },
        "id": "IVvk4iPaTKmZ",
        "outputId": "4deba40c-f8f8-4740-9978-059e7bfd5069"
      },
      "source": [
        "dataset"
      ],
      "execution_count": 4,
      "outputs": [
        {
          "output_type": "execute_result",
          "data": {
            "text/html": [
              "<div>\n",
              "<style scoped>\n",
              "    .dataframe tbody tr th:only-of-type {\n",
              "        vertical-align: middle;\n",
              "    }\n",
              "\n",
              "    .dataframe tbody tr th {\n",
              "        vertical-align: top;\n",
              "    }\n",
              "\n",
              "    .dataframe thead th {\n",
              "        text-align: right;\n",
              "    }\n",
              "</style>\n",
              "<table border=\"1\" class=\"dataframe\">\n",
              "  <thead>\n",
              "    <tr style=\"text-align: right;\">\n",
              "      <th></th>\n",
              "      <th>Text</th>\n",
              "      <th>Language</th>\n",
              "    </tr>\n",
              "  </thead>\n",
              "  <tbody>\n",
              "    <tr>\n",
              "      <th>0</th>\n",
              "      <td>Nature, in the broadest sense, is the natural...</td>\n",
              "      <td>English</td>\n",
              "    </tr>\n",
              "    <tr>\n",
              "      <th>1</th>\n",
              "      <td>\"Nature\" can refer to the phenomena of the phy...</td>\n",
              "      <td>English</td>\n",
              "    </tr>\n",
              "    <tr>\n",
              "      <th>2</th>\n",
              "      <td>The study of nature is a large, if not the onl...</td>\n",
              "      <td>English</td>\n",
              "    </tr>\n",
              "    <tr>\n",
              "      <th>3</th>\n",
              "      <td>Although humans are part of nature, human acti...</td>\n",
              "      <td>English</td>\n",
              "    </tr>\n",
              "    <tr>\n",
              "      <th>4</th>\n",
              "      <td>[1] The word nature is borrowed from the Old F...</td>\n",
              "      <td>English</td>\n",
              "    </tr>\n",
              "    <tr>\n",
              "      <th>...</th>\n",
              "      <td>...</td>\n",
              "      <td>...</td>\n",
              "    </tr>\n",
              "    <tr>\n",
              "      <th>10332</th>\n",
              "      <td>ನಿಮ್ಮ ತಪ್ಪು ಏನು ಬಂದಿದೆಯೆಂದರೆ ಆ ದಿನದಿಂದ ನಿಮಗೆ ಒ...</td>\n",
              "      <td>Kannada</td>\n",
              "    </tr>\n",
              "    <tr>\n",
              "      <th>10333</th>\n",
              "      <td>ನಾರ್ಸಿಸಾ ತಾನು ಮೊದಲಿಗೆ ಹೆಣಗಾಡುತ್ತಿದ್ದ ಮಾರ್ಗಗಳನ್...</td>\n",
              "      <td>Kannada</td>\n",
              "    </tr>\n",
              "    <tr>\n",
              "      <th>10334</th>\n",
              "      <td>ಹೇಗೆ ' ನಾರ್ಸಿಸಿಸಮ್ ಈಗ ಮರಿಯನ್ ಅವರಿಗೆ ಸಂಭವಿಸಿದ ಎ...</td>\n",
              "      <td>Kannada</td>\n",
              "    </tr>\n",
              "    <tr>\n",
              "      <th>10335</th>\n",
              "      <td>ಅವಳು ಈಗ ಹೆಚ್ಚು ಚಿನ್ನದ ಬ್ರೆಡ್ ಬಯಸುವುದಿಲ್ಲ ಎಂದು ...</td>\n",
              "      <td>Kannada</td>\n",
              "    </tr>\n",
              "    <tr>\n",
              "      <th>10336</th>\n",
              "      <td>ಟೆರ್ರಿ ನೀವು ನಿಜವಾಗಿಯೂ ಆ ದೇವದೂತನಂತೆ ಸ್ವಲ್ಪ ಕಾಣು...</td>\n",
              "      <td>Kannada</td>\n",
              "    </tr>\n",
              "  </tbody>\n",
              "</table>\n",
              "<p>10337 rows × 2 columns</p>\n",
              "</div>"
            ],
            "text/plain": [
              "                                                    Text Language\n",
              "0       Nature, in the broadest sense, is the natural...  English\n",
              "1      \"Nature\" can refer to the phenomena of the phy...  English\n",
              "2      The study of nature is a large, if not the onl...  English\n",
              "3      Although humans are part of nature, human acti...  English\n",
              "4      [1] The word nature is borrowed from the Old F...  English\n",
              "...                                                  ...      ...\n",
              "10332  ನಿಮ್ಮ ತಪ್ಪು ಏನು ಬಂದಿದೆಯೆಂದರೆ ಆ ದಿನದಿಂದ ನಿಮಗೆ ಒ...  Kannada\n",
              "10333  ನಾರ್ಸಿಸಾ ತಾನು ಮೊದಲಿಗೆ ಹೆಣಗಾಡುತ್ತಿದ್ದ ಮಾರ್ಗಗಳನ್...  Kannada\n",
              "10334  ಹೇಗೆ ' ನಾರ್ಸಿಸಿಸಮ್ ಈಗ ಮರಿಯನ್ ಅವರಿಗೆ ಸಂಭವಿಸಿದ ಎ...  Kannada\n",
              "10335  ಅವಳು ಈಗ ಹೆಚ್ಚು ಚಿನ್ನದ ಬ್ರೆಡ್ ಬಯಸುವುದಿಲ್ಲ ಎಂದು ...  Kannada\n",
              "10336  ಟೆರ್ರಿ ನೀವು ನಿಜವಾಗಿಯೂ ಆ ದೇವದೂತನಂತೆ ಸ್ವಲ್ಪ ಕಾಣು...  Kannada\n",
              "\n",
              "[10337 rows x 2 columns]"
            ]
          },
          "metadata": {},
          "execution_count": 4
        }
      ]
    },
    {
      "cell_type": "code",
      "metadata": {
        "colab": {
          "base_uri": "https://localhost:8080/"
        },
        "id": "rFKgQfROTLtE",
        "outputId": "c7c540f8-7247-41c7-8a55-1e420e554ed0"
      },
      "source": [
        "dataset['Language'].unique()"
      ],
      "execution_count": 5,
      "outputs": [
        {
          "output_type": "execute_result",
          "data": {
            "text/plain": [
              "array(['English', 'Malayalam', 'Hindi', 'Tamil', 'Portugeese', 'French',\n",
              "       'Dutch', 'Spanish', 'Greek', 'Russian', 'Danish', 'Italian',\n",
              "       'Turkish', 'Sweedish', 'Arabic', 'German', 'Kannada'], dtype=object)"
            ]
          },
          "metadata": {},
          "execution_count": 5
        }
      ]
    },
    {
      "cell_type": "code",
      "metadata": {
        "colab": {
          "base_uri": "https://localhost:8080/"
        },
        "id": "z-pWTyLTTR8s",
        "outputId": "d0d10ada-c5c5-4b1f-be38-f1b0bf4da93e"
      },
      "source": [
        "dataset.shape"
      ],
      "execution_count": 6,
      "outputs": [
        {
          "output_type": "execute_result",
          "data": {
            "text/plain": [
              "(10337, 2)"
            ]
          },
          "metadata": {},
          "execution_count": 6
        }
      ]
    },
    {
      "cell_type": "code",
      "metadata": {
        "colab": {
          "base_uri": "https://localhost:8080/"
        },
        "id": "Nn_-UX42YN-g",
        "outputId": "9369c3db-9f0d-458f-8f75-10068f63bfce"
      },
      "source": [
        "dataset.info()"
      ],
      "execution_count": 7,
      "outputs": [
        {
          "output_type": "stream",
          "name": "stdout",
          "text": [
            "<class 'pandas.core.frame.DataFrame'>\n",
            "RangeIndex: 10337 entries, 0 to 10336\n",
            "Data columns (total 2 columns):\n",
            " #   Column    Non-Null Count  Dtype \n",
            "---  ------    --------------  ----- \n",
            " 0   Text      10337 non-null  object\n",
            " 1   Language  10337 non-null  object\n",
            "dtypes: object(2)\n",
            "memory usage: 161.6+ KB\n"
          ]
        }
      ]
    },
    {
      "cell_type": "code",
      "metadata": {
        "colab": {
          "base_uri": "https://localhost:8080/"
        },
        "id": "ARhS2q34YSCf",
        "outputId": "c7912351-a007-4e4f-892c-37bc6a885983"
      },
      "source": [
        "dataset.Language.value_counts()"
      ],
      "execution_count": 8,
      "outputs": [
        {
          "output_type": "execute_result",
          "data": {
            "text/plain": [
              "English       1385\n",
              "French        1014\n",
              "Spanish        819\n",
              "Portugeese     739\n",
              "Italian        698\n",
              "Russian        692\n",
              "Sweedish       676\n",
              "Malayalam      594\n",
              "Dutch          546\n",
              "Arabic         536\n",
              "Turkish        474\n",
              "German         470\n",
              "Tamil          469\n",
              "Danish         428\n",
              "Kannada        369\n",
              "Greek          365\n",
              "Hindi           63\n",
              "Name: Language, dtype: int64"
            ]
          },
          "metadata": {},
          "execution_count": 8
        }
      ]
    },
    {
      "cell_type": "code",
      "metadata": {
        "colab": {
          "base_uri": "https://localhost:8080/",
          "height": 204
        },
        "id": "tynjzeX6YZf2",
        "outputId": "46c54fe1-b571-413f-e48d-13d9ed43f364"
      },
      "source": [
        "dataset[dataset.Language == 'Hindi'].sample(5)"
      ],
      "execution_count": 9,
      "outputs": [
        {
          "output_type": "execute_result",
          "data": {
            "text/html": [
              "<div>\n",
              "<style scoped>\n",
              "    .dataframe tbody tr th:only-of-type {\n",
              "        vertical-align: middle;\n",
              "    }\n",
              "\n",
              "    .dataframe tbody tr th {\n",
              "        vertical-align: top;\n",
              "    }\n",
              "\n",
              "    .dataframe thead th {\n",
              "        text-align: right;\n",
              "    }\n",
              "</style>\n",
              "<table border=\"1\" class=\"dataframe\">\n",
              "  <thead>\n",
              "    <tr style=\"text-align: right;\">\n",
              "      <th></th>\n",
              "      <th>Text</th>\n",
              "      <th>Language</th>\n",
              "    </tr>\n",
              "  </thead>\n",
              "  <tbody>\n",
              "    <tr>\n",
              "      <th>2006</th>\n",
              "      <td>और आपको वह नहीं मिला जो दूसरा व्यक्ति कह रहा थ...</td>\n",
              "      <td>Hindi</td>\n",
              "    </tr>\n",
              "    <tr>\n",
              "      <th>1985</th>\n",
              "      <td>यह परियोजना के बारे में बार बार, अक्सर अन्य वे...</td>\n",
              "      <td>Hindi</td>\n",
              "    </tr>\n",
              "    <tr>\n",
              "      <th>2005</th>\n",
              "      <td>अगर आप किसी से पूछते हैं कि आप रोने के लिए परे...</td>\n",
              "      <td>Hindi</td>\n",
              "    </tr>\n",
              "    <tr>\n",
              "      <th>2031</th>\n",
              "      <td>क्या आप इस सप्ताह के अंत में कुछ करना चाहते हैं?</td>\n",
              "      <td>Hindi</td>\n",
              "    </tr>\n",
              "    <tr>\n",
              "      <th>2026</th>\n",
              "      <td>आगे बढ़ें। ज़रूर जाना। मुझे खत्म करते हैं। एक ...</td>\n",
              "      <td>Hindi</td>\n",
              "    </tr>\n",
              "  </tbody>\n",
              "</table>\n",
              "</div>"
            ],
            "text/plain": [
              "                                                   Text Language\n",
              "2006  और आपको वह नहीं मिला जो दूसरा व्यक्ति कह रहा थ...    Hindi\n",
              "1985  यह परियोजना के बारे में बार बार, अक्सर अन्य वे...    Hindi\n",
              "2005  अगर आप किसी से पूछते हैं कि आप रोने के लिए परे...    Hindi\n",
              "2031   क्या आप इस सप्ताह के अंत में कुछ करना चाहते हैं?    Hindi\n",
              "2026  आगे बढ़ें। ज़रूर जाना। मुझे खत्म करते हैं। एक ...    Hindi"
            ]
          },
          "metadata": {},
          "execution_count": 9
        }
      ]
    },
    {
      "cell_type": "code",
      "metadata": {
        "id": "fdunDeb9V3LE"
      },
      "source": [
        "def removeSymbolsAndNumbers(text):        \n",
        "        text = re.sub(r'[{}]'.format(string.punctuation), '', text)\n",
        "        text = re.sub(r'\\d+', '', text)\n",
        "        text = re.sub(r'[@]', '', text)\n",
        "\n",
        "        return text.lower()"
      ],
      "execution_count": 10,
      "outputs": []
    },
    {
      "cell_type": "code",
      "metadata": {
        "id": "M6iCT-w9ZIr7"
      },
      "source": [
        "def removeEnglishLetters(text):        \n",
        "        text = re.sub(r'[a-zA-Z]+', '', text)\n",
        "        return text.lower()"
      ],
      "execution_count": 11,
      "outputs": []
    },
    {
      "cell_type": "code",
      "metadata": {
        "colab": {
          "base_uri": "https://localhost:8080/"
        },
        "id": "Oo4wDGuzZJE3",
        "outputId": "75749245-06dc-4871-c25b-b6a89100c1e6"
      },
      "source": [
        "X0 = dataset.apply(lambda x: removeEnglishLetters(x.Text) if x.Language in ['Russian','Malyalam','Hindi','Kannada','Tamil','Arabic']  else x.Text, axis = 1)\n",
        "X0"
      ],
      "execution_count": 12,
      "outputs": [
        {
          "output_type": "execute_result",
          "data": {
            "text/plain": [
              "0         Nature, in the broadest sense, is the natural...\n",
              "1        \"Nature\" can refer to the phenomena of the phy...\n",
              "2        The study of nature is a large, if not the onl...\n",
              "3        Although humans are part of nature, human acti...\n",
              "4        [1] The word nature is borrowed from the Old F...\n",
              "                               ...                        \n",
              "10332    ನಿಮ್ಮ ತಪ್ಪು ಏನು ಬಂದಿದೆಯೆಂದರೆ ಆ ದಿನದಿಂದ ನಿಮಗೆ ಒ...\n",
              "10333    ನಾರ್ಸಿಸಾ ತಾನು ಮೊದಲಿಗೆ ಹೆಣಗಾಡುತ್ತಿದ್ದ ಮಾರ್ಗಗಳನ್...\n",
              "10334    ಹೇಗೆ ' ನಾರ್ಸಿಸಿಸಮ್ ಈಗ ಮರಿಯನ್ ಅವರಿಗೆ ಸಂಭವಿಸಿದ ಎ...\n",
              "10335    ಅವಳು ಈಗ ಹೆಚ್ಚು ಚಿನ್ನದ ಬ್ರೆಡ್ ಬಯಸುವುದಿಲ್ಲ ಎಂದು ...\n",
              "10336    ಟೆರ್ರಿ ನೀವು ನಿಜವಾಗಿಯೂ ಆ ದೇವದೂತನಂತೆ ಸ್ವಲ್ಪ ಕಾಣು...\n",
              "Length: 10337, dtype: object"
            ]
          },
          "metadata": {},
          "execution_count": 12
        }
      ]
    },
    {
      "cell_type": "code",
      "metadata": {
        "colab": {
          "base_uri": "https://localhost:8080/"
        },
        "id": "RhXMHKwGZSXy",
        "outputId": "c60d2752-fee8-4930-88ce-01b9bb4fee60"
      },
      "source": [
        "X1 = X0.apply(removeSymbolsAndNumbers)\n",
        "X1"
      ],
      "execution_count": 13,
      "outputs": [
        {
          "output_type": "execute_result",
          "data": {
            "text/plain": [
              "0         nature in the broadest sense is the natural p...\n",
              "1        nature can refer to the phenomena of the physi...\n",
              "2        the study of nature is a large if not the only...\n",
              "3        although humans are part of nature human activ...\n",
              "4         the word nature is borrowed from the old fren...\n",
              "                               ...                        \n",
              "10332    ನಿಮ್ಮ ತಪ್ಪು ಏನು ಬಂದಿದೆಯೆಂದರೆ ಆ ದಿನದಿಂದ ನಿಮಗೆ ಒ...\n",
              "10333    ನಾರ್ಸಿಸಾ ತಾನು ಮೊದಲಿಗೆ ಹೆಣಗಾಡುತ್ತಿದ್ದ ಮಾರ್ಗಗಳನ್...\n",
              "10334    ಹೇಗೆ  ನಾರ್ಸಿಸಿಸಮ್ ಈಗ ಮರಿಯನ್ ಅವರಿಗೆ ಸಂಭವಿಸಿದ ಎಲ...\n",
              "10335    ಅವಳು ಈಗ ಹೆಚ್ಚು ಚಿನ್ನದ ಬ್ರೆಡ್ ಬಯಸುವುದಿಲ್ಲ ಎಂದು ...\n",
              "10336    ಟೆರ್ರಿ ನೀವು ನಿಜವಾಗಿಯೂ ಆ ದೇವದೂತನಂತೆ ಸ್ವಲ್ಪ ಕಾಣು...\n",
              "Length: 10337, dtype: object"
            ]
          },
          "metadata": {},
          "execution_count": 13
        }
      ]
    },
    {
      "cell_type": "code",
      "metadata": {
        "id": "6wJZrjMoZtHz"
      },
      "source": [
        "y = dataset['Language']"
      ],
      "execution_count": 14,
      "outputs": []
    },
    {
      "cell_type": "code",
      "metadata": {
        "id": "0G955NViZ-L8"
      },
      "source": [
        "x_train, x_test, y_train, y_test = train_test_split(X1,y, random_state=42)"
      ],
      "execution_count": 15,
      "outputs": []
    },
    {
      "cell_type": "code",
      "metadata": {
        "id": "fIcPeND1aOwF"
      },
      "source": [
        "vectorizer = TfidfVectorizer(ngram_range=(1,3), analyzer='char')"
      ],
      "execution_count": 16,
      "outputs": []
    },
    {
      "cell_type": "code",
      "metadata": {
        "id": "lV9pUTwPaQj7"
      },
      "source": [
        "model = pipeline.Pipeline([\n",
        "    ('vectorizer', vectorizer),\n",
        "    ('clf', LogisticRegression())\n",
        "])"
      ],
      "execution_count": 17,
      "outputs": []
    },
    {
      "cell_type": "code",
      "metadata": {
        "colab": {
          "base_uri": "https://localhost:8080/"
        },
        "id": "gpPQJ1NqaX17",
        "outputId": "8abad3ce-7661-45ca-ee5e-bafab71afe0a"
      },
      "source": [
        "model.fit(x_train,y_train)"
      ],
      "execution_count": 18,
      "outputs": [
        {
          "output_type": "execute_result",
          "data": {
            "text/plain": [
              "Pipeline(memory=None,\n",
              "         steps=[('vectorizer',\n",
              "                 TfidfVectorizer(analyzer='char', binary=False,\n",
              "                                 decode_error='strict',\n",
              "                                 dtype=<class 'numpy.float64'>,\n",
              "                                 encoding='utf-8', input='content',\n",
              "                                 lowercase=True, max_df=1.0, max_features=None,\n",
              "                                 min_df=1, ngram_range=(1, 3), norm='l2',\n",
              "                                 preprocessor=None, smooth_idf=True,\n",
              "                                 stop_words=None, strip_accents=None,\n",
              "                                 sublinear_tf=False,\n",
              "                                 token_pattern='(?u)\\\\b\\\\w\\\\w+\\\\b',\n",
              "                                 tokenizer=None, use_idf=True,\n",
              "                                 vocabulary=None)),\n",
              "                ('clf',\n",
              "                 LogisticRegression(C=1.0, class_weight=None, dual=False,\n",
              "                                    fit_intercept=True, intercept_scaling=1,\n",
              "                                    l1_ratio=None, max_iter=100,\n",
              "                                    multi_class='auto', n_jobs=None,\n",
              "                                    penalty='l2', random_state=None,\n",
              "                                    solver='lbfgs', tol=0.0001, verbose=0,\n",
              "                                    warm_start=False))],\n",
              "         verbose=False)"
            ]
          },
          "metadata": {},
          "execution_count": 18
        }
      ]
    },
    {
      "cell_type": "code",
      "metadata": {
        "id": "RlablrHTaaaJ"
      },
      "source": [
        "y_pred = model.predict(x_test)\n",
        "accuracy = accuracy_score(y_test,y_pred)\n",
        "cm = confusion_matrix(y_test,y_pred)"
      ],
      "execution_count": 19,
      "outputs": []
    },
    {
      "cell_type": "code",
      "metadata": {
        "colab": {
          "base_uri": "https://localhost:8080/"
        },
        "id": "tZwoFttUam68",
        "outputId": "642bc502-0c4a-42ba-c03f-61224029fe88"
      },
      "source": [
        "print(accuracy)"
      ],
      "execution_count": 20,
      "outputs": [
        {
          "output_type": "stream",
          "name": "stdout",
          "text": [
            "0.9829787234042553\n"
          ]
        }
      ]
    },
    {
      "cell_type": "code",
      "metadata": {
        "colab": {
          "base_uri": "https://localhost:8080/"
        },
        "id": "W3hTfpYWanyM",
        "outputId": "88ae8721-2b65-4837-a06a-0d93ebb31010"
      },
      "source": [
        "print(classification_report(y_test,y_pred))"
      ],
      "execution_count": 21,
      "outputs": [
        {
          "output_type": "stream",
          "name": "stdout",
          "text": [
            "              precision    recall  f1-score   support\n",
            "\n",
            "      Arabic       1.00      0.99      1.00       134\n",
            "      Danish       0.97      0.97      0.97        97\n",
            "       Dutch       0.99      0.96      0.97       139\n",
            "     English       0.96      0.99      0.98       364\n",
            "      French       0.99      0.98      0.99       269\n",
            "      German       0.99      0.97      0.98       116\n",
            "       Greek       1.00      1.00      1.00        86\n",
            "       Hindi       1.00      1.00      1.00        13\n",
            "     Italian       0.98      0.96      0.97       180\n",
            "     Kannada       1.00      1.00      1.00        78\n",
            "   Malayalam       1.00      0.99      1.00       158\n",
            "  Portugeese       0.98      0.98      0.98       170\n",
            "     Russian       1.00      1.00      1.00       171\n",
            "     Spanish       0.99      0.98      0.98       206\n",
            "    Sweedish       0.98      0.96      0.97       162\n",
            "       Tamil       1.00      1.00      1.00       114\n",
            "     Turkish       0.95      0.99      0.97       128\n",
            "\n",
            "    accuracy                           0.98      2585\n",
            "   macro avg       0.99      0.98      0.99      2585\n",
            "weighted avg       0.98      0.98      0.98      2585\n",
            "\n"
          ]
        }
      ]
    },
    {
      "cell_type": "code",
      "metadata": {
        "colab": {
          "base_uri": "https://localhost:8080/",
          "height": 592
        },
        "id": "gx8iAba_aySh",
        "outputId": "6c9c5649-2824-4569-dbd0-66ba34fd3002"
      },
      "source": [
        "plt.figure(figsize=(15,10))\n",
        "sns.heatmap(cm, annot = True)\n",
        "plt.show()"
      ],
      "execution_count": 22,
      "outputs": [
        {
          "output_type": "display_data",
          "data": {
            "image/png": "[encoded data removed]",
            "text/plain": [
              "<Figure size 1080x720 with 2 Axes>"
            ]
          },
          "metadata": {
            "needs_background": "light"
          }
        }
      ]
    },
    {
      "cell_type": "code",
      "metadata": {
        "id": "WsAg9-Kba2gp"
      },
      "source": [
        "def predict(text):\n",
        "    lang = model.predict([text])\n",
        "    print('The Language is in',lang[0])"
      ],
      "execution_count": 23,
      "outputs": []
    },
    {
      "cell_type": "code",
      "metadata": {
        "colab": {
          "base_uri": "https://localhost:8080/"
        },
        "id": "iXnwR5HCbBoT",
        "outputId": "34d6c933-1d1e-4784-801b-7bd72b22ad93"
      },
      "source": [
        "# English\n",
        "predict(\"LANGUAGE DETECTION MODEL CHECK\")\n",
        "# French\n",
        "predict(\"VÉRIFICATION DU MODÈLE DE DÉTECTION DE LA LANGUE\")\n",
        "# Arabic\n",
        "predict(\"توففحص نموذج الكشف عن اللغة\")\n",
        "# Spanish\n",
        "predict(\"VERIFICACIÓN DEL MODELO DE DETECCIÓN DE IDIOMAS\")\n",
        "# Malayalam\n",
        "predict(\"ലാംഗ്വേജ് ഡിറ്റക്ഷൻ മോഡൽ ചെക്ക്\")\n",
        "# Russian\n",
        "predict(\"ПРОВЕРКА МОДЕЛИ ОПРЕДЕЛЕНИЯ ЯЗЫКА\")\n",
        "# Hindi\n",
        "predict('भाषा का पता लगाने वाले मॉडल की जांच')\n",
        "# Hindi\n",
        "predict(' boyit9h एनालिटिक्स alhgserog 90980879809 bguytfivb ahgseporiga प्रदान करता है')"
      ],
      "execution_count": 24,
      "outputs": [
        {
          "output_type": "stream",
          "name": "stdout",
          "text": [
            "The Language is in English\n",
            "The Language is in French\n",
            "The Language is in Arabic\n",
            "The Language is in Spanish\n",
            "The Language is in Malayalam\n",
            "The Language is in Russian\n",
            "The Language is in Hindi\n",
            "The Language is in Hindi\n"
          ]
        }
      ]
    },
    {
      "cell_type": "code",
      "metadata": {
        "colab": {
          "base_uri": "https://localhost:8080/"
        },
        "id": "MDyPo5HtbF-H",
        "outputId": "24e25b17-4237-4fe2-bfba-5c3c551f3098"
      },
      "source": [
        "predict('यह पाठ अंग्रेजी में लिखा गया है लेकिन इसे हिंदी में परिवर्तित किया जा रहा है')"
      ],
      "execution_count": 25,
      "outputs": [
        {
          "output_type": "stream",
          "name": "stdout",
          "text": [
            "The Language is in Hindi\n"
          ]
        }
      ]
    },
    {
      "cell_type": "code",
      "metadata": {
        "colab": {
          "base_uri": "https://localhost:8080/"
        },
        "id": "uNvamjtLhfTn",
        "outputId": "c50b2cfb-df62-4ac7-d86e-0ec32347c157"
      },
      "source": [
        "predict('yah paath angrejee mein likha gaya hai lekin ise hindee mein parivartit kiya ja raha hai')"
      ],
      "execution_count": 26,
      "outputs": [
        {
          "output_type": "stream",
          "name": "stdout",
          "text": [
            "The Language is in English\n"
          ]
        }
      ]
    },
    {
      "cell_type": "code",
      "metadata": {
        "colab": {
          "base_uri": "https://localhost:8080/"
        },
        "id": "Kd4J-RFdhioQ",
        "outputId": "f8d9409d-b744-4751-f88f-09a82a2c5e67"
      },
      "source": [
        "predict(\"ik ben knap\")"
      ],
      "execution_count": 27,
      "outputs": [
        {
          "output_type": "stream",
          "name": "stdout",
          "text": [
            "The Language is in Dutch\n"
          ]
        }
      ]
    },
    {
      "cell_type": "code",
      "metadata": {
        "id": "2vNxIQrwi-xa"
      },
      "source": [
        "import pickle\n",
        "with open(\"Language_Detection\", \"wb\") as f:\n",
        "  pickle.dump(model, f)"
      ],
      "execution_count": 29,
      "outputs": []
    },
    {
      "cell_type": "code",
      "metadata": {
        "colab": {
          "base_uri": "https://localhost:8080/"
        },
        "id": "367NuuUlsdsI",
        "outputId": "b89eb65b-e8a9-437e-cbc6-3307ee3bd9af"
      },
      "source": [
        "with open(\"Language_Detection\", \"rb\") as f:\n",
        "  mp = pickle.load(f)\n",
        "\n",
        "input = ['यह पाठ अंग्रेजी में लिखा गया है लेकिन इसे हिंदी में परिवर्तित किया जा रहा है']\n",
        "output = mp.predict(input)\n",
        "\n",
        "print(output[0])"
      ],
      "execution_count": 35,
      "outputs": [
        {
          "output_type": "stream",
          "name": "stdout",
          "text": [
            "Hindi\n"
          ]
        }
      ]
    }
  ]
}